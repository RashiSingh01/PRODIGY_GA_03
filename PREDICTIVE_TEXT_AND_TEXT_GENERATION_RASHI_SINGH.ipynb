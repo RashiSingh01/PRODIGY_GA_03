{
  "nbformat": 4,
  "nbformat_minor": 0,
  "metadata": {
    "colab": {
      "provenance": []
    },
    "kernelspec": {
      "name": "python3",
      "display_name": "Python 3"
    },
    "language_info": {
      "name": "python"
    }
  },
  "cells": [
    {
      "cell_type": "code",
      "execution_count": null,
      "metadata": {
        "id": "9va5V03_B5xk"
      },
      "outputs": [],
      "source": [
        "import markovify\n",
        "from IPython.display import display\n",
        "import ipywidgets as widgets\n",
        "\n",
        "# Create a text box for user input\n",
        "text_input = widgets.Text(\n",
        "    description=\"Enter text:\"\n",
        ")\n",
        "display(text_input)\n",
        "\n",
        "# Button to submit the input text\n",
        "button = widgets.Button(\n",
        "    description=\"Generate Sentences\"\n",
        ")\n",
        "display(button)\n",
        "\n",
        "output = widgets.Output()\n",
        "\n",
        "# Function to generate sentences when the button is clicked\n",
        "def generate_sentences(button):\n",
        "    with output:\n",
        "        output.clear_output()  # Clear previous output\n",
        "        text = text_input.value\n",
        "        if text:\n",
        "            text_model = markovify.Text(text)\n",
        "            for i in range(5):\n",
        "                print(text_model.make_sentence())\n",
        "        else:\n",
        "            print(\"Please enter some text.\")\n",
        "\n",
        "button.on_click(generate_sentences)\n",
        "display(output)"
      ]
    }
  ]
}